{
 "metadata": {
  "language_info": {
   "codemirror_mode": {
    "name": "ipython",
    "version": 3
   },
   "file_extension": ".py",
   "mimetype": "text/x-python",
   "name": "python",
   "nbconvert_exporter": "python",
   "pygments_lexer": "ipython3",
   "version": "3.8.5-final"
  },
  "orig_nbformat": 2,
  "kernelspec": {
   "name": "python385jvsc74a57bd0a69df68131486a128a8fd827197821b53424b7b0b489bee23ddf1a4cd0449832",
   "display_name": "Python 3.8.5 32-bit (conda)"
  }
 },
 "nbformat": 4,
 "nbformat_minor": 2,
 "cells": [
  {
   "cell_type": "code",
   "execution_count": 158,
   "metadata": {},
   "outputs": [],
   "source": [
    "import numpy as np\n",
    "\n",
    "# Generate Probability matrix M:\n",
    "# Note: matrix in Python starts with index 0 -> the location is matrix index + 1\n",
    "N = 9\n",
    "M = np.zeros((N,N))\n",
    "\n",
    "# Row 1\n",
    "M[0,1] = 1/2\n",
    "M[0,2] = 1/2\n",
    "\n",
    "# Row 2\n",
    "M[1,0] = 1/3\n",
    "M[1,3] = 1/3\n",
    "M[1,6] = 1/3\n",
    "\n",
    "# Row 3\n",
    "M[2,0] = 1/3\n",
    "M[2,4] = 1/3\n",
    "M[2,5] = 1/3\n",
    "\n",
    "# Row 4\n",
    "M[3,1] = 1/2\n",
    "M[3,6] = 1/2\n",
    "\n",
    "# Row 5\n",
    "M[4,2] = 1/2\n",
    "M[4,5] = 1/2\n",
    "\n",
    "# Row 6\n",
    "M[5,2] = 1/3\n",
    "M[5,4] = 1/3\n",
    "M[5,7] = 1/3\n",
    "\n",
    "# Row 7\n",
    "M[6,1] = 1/4\n",
    "M[6,3] = 1/4\n",
    "M[6,7] = 1/4\n",
    "M[6,8] = 1/4\n",
    "\n",
    "# Row 8\n",
    "M[7,5] = 1/3\n",
    "M[7,6] = 1/3\n",
    "M[7,8] = 1/3\n",
    "\n",
    "# Row 9\n",
    "M[8,6] = 1/2\n",
    "M[8,7] = 1/2"
   ]
  },
  {
   "cell_type": "code",
   "execution_count": 159,
   "metadata": {},
   "outputs": [
    {
     "output_type": "stream",
     "name": "stdout",
     "text": [
      "Highest trade cost lcoation is  7\nLowest trade cost lcoation is  4\n"
     ]
    }
   ],
   "source": [
    "# Part (a)\n",
    "# Calculate matrix T\n",
    "I = np.identity(N)\n",
    "\n",
    "T = np.matmul(np.linalg.inv(I-M), np.linalg.inv(I-M)) - np.linalg.inv(I-M)\n",
    "\n",
    "# Not consider trade cost between i and i\n",
    "for i in range(N):\n",
    "    T[i,i] = 0\n",
    "\n",
    "# Calculate average expected trade cost to other location (Sum across row of T)\n",
    "T_tilda = 1/(N-1)* T.sum(axis=0)\n",
    "theta = T_tilda.sum()/N\n",
    "\n",
    "for i in range(N):\n",
    "    if T_tilda[i] == max(T_tilda):\n",
    "        max_index = i       # Index of T_tilda with largest value\n",
    "    if T_tilda[i] == min(T_tilda):\n",
    "        min_index = i       # Index of T_tilda with largest value\n",
    "\n",
    "# Print results\n",
    "print('Highest trade cost lcoation is ', max_index + 1)       # This is the lcoation with highest trade cost\n",
    "print('Lowest trade cost lcoation is ', min_index + 1)       # This is the lcoation with lowest trade cost"
   ]
  },
  {
   "cell_type": "code",
   "execution_count": 160,
   "metadata": {},
   "outputs": [
    {
     "output_type": "stream",
     "name": "stdout",
     "text": [
      "Highest importance trade route is  [1, 3]\n"
     ]
    }
   ],
   "source": [
    "# Part (b): Find this most important link\n",
    "theta_max = theta\n",
    "theta_max_route = [0,0]\n",
    "\n",
    "for i in range(N):\n",
    "    for j in range(i+1,N):\n",
    "        if M[i,j] > 0:  # Only check if link exists\n",
    "            M_new = np.array(M)\n",
    "\n",
    "            # Change route probability from i and from j as the link is removed\n",
    "            for k in range(N):\n",
    "                # Change probability in row i\n",
    "                if M[i,k] > 0:\n",
    "                    M_new[i,k] = 1/(1/M[i,k] - 1)\n",
    "\n",
    "                # Change probability in row j\n",
    "                if M[j,k] > 0:\n",
    "                    M_new[j,k] = 1/(1/M[j,k] - 1)\n",
    "\n",
    "            M_new[i,j] = 0\n",
    "            M_new[j,i] = 0\n",
    "\n",
    "            I = np.identity(N)\n",
    "            T_new = np.matmul(np.linalg.inv(I-M_new), np.linalg.inv(I-M_new)) - np.linalg.inv(I-M_new)\n",
    "            \n",
    "            # Not consider trade cost between location m and m\n",
    "            for m in range(N):\n",
    "                T_new[m,m] = 0\n",
    "\n",
    "            # Calculate average expected trade cost to other location (Sum across row of T)\n",
    "            T_tilda_new = 1/(N-1)* T_new.sum(axis=0)\n",
    "            theta_new = T_tilda_new.sum()/N\n",
    "\n",
    "            # Check if this new network (from removing link between i and j) yields highest cost\n",
    "            if theta_new > theta_max:\n",
    "                theta_max_route = [i+1,j+1]     # This index represents 2 locations: Add 1 b/c matrix index here starts at 0\n",
    "                theta_max = theta_new\n",
    "\n",
    "# Print result\n",
    "print('Highest importance trade route is ', theta_max_route)"
   ]
  }
 ]
}